{
 "cells": [
  {
   "cell_type": "markdown",
   "metadata": {},
   "source": [
    "# Sunflowers"
   ]
  },
  {
   "cell_type": "code",
   "execution_count": 1,
   "metadata": {},
   "outputs": [],
   "source": [
    "from itertools import chain, combinations, product\n",
    "from tqdm.notebook import tqdm, trange"
   ]
  },
  {
   "cell_type": "code",
   "execution_count": 2,
   "metadata": {},
   "outputs": [],
   "source": [
    "def powerset(iterable):\n",
    "    s = list(iterable)\n",
    "    return chain.from_iterable(combinations(s, r) for r in range(len(s)+1))"
   ]
  },
  {
   "cell_type": "code",
   "execution_count": 3,
   "metadata": {},
   "outputs": [],
   "source": [
    "def choose(n, k):\n",
    "    '''\n",
    "    A fast way to calculate binomial coefficients by Andrew Dalke\n",
    "    '''\n",
    "    if 0 <= k <= n:\n",
    "        ntok = 1\n",
    "        ktok = 1\n",
    "        for t in range(1, min(k, n - k) + 1):\n",
    "            ntok *= n\n",
    "            ktok *= t\n",
    "            n -= 1\n",
    "        return ntok // ktok\n",
    "    else:\n",
    "        return 0"
   ]
  },
  {
   "cell_type": "code",
   "execution_count": 4,
   "metadata": {},
   "outputs": [],
   "source": [
    "def contains_sunflower(petals, family):\n",
    "    ''' \n",
    "    Checks whether a set family contains a sunflower with a given number of petals \n",
    "    '''\n",
    "    for subfamily in combinations(family, petals):\n",
    "        sunflower = True\n",
    "        total_intersect = frozenset.intersection(*subfamily)\n",
    "        for pair in combinations(subfamily, 2):\n",
    "            if frozenset.intersection(*pair) != total_intersect:\n",
    "                sunflower = False\n",
    "                break\n",
    "                \n",
    "        if sunflower:\n",
    "            return True\n",
    "    return False"
   ]
  },
  {
   "cell_type": "code",
   "execution_count": 15,
   "metadata": {},
   "outputs": [],
   "source": [
    "def largest_sunflower_free(petals, set_size, lower_bound=0):\n",
    "    '''\n",
    "    Finds the largest sized family of set_size sized sets that does not contain a sunflower \n",
    "    with petals petals.\n",
    "    '''\n",
    "    family_size = max(petals, lower_bound)\n",
    "    subsets = [frozenset(i) for i in combinations(range(1, (petals * set_size) + 1), set_size)]\n",
    "    \n",
    "    while False in [contains_sunflower(petals, set(j)) for j in combinations(subsets, family_size)]:\n",
    "        print(family_size)\n",
    "        family_size += 1\n",
    "        \n",
    "    return family_size - 1"
   ]
  },
  {
   "cell_type": "code",
   "execution_count": 16,
   "metadata": {},
   "outputs": [
    {
     "name": "stdout",
     "output_type": "stream",
     "text": [
      "3\n",
      "4\n",
      "5\n",
      "6\n"
     ]
    },
    {
     "data": {
      "text/plain": [
       "6"
      ]
     },
     "execution_count": 16,
     "metadata": {},
     "output_type": "execute_result"
    }
   ],
   "source": [
    "largest_sunflower_free(3,2)"
   ]
  },
  {
   "cell_type": "markdown",
   "metadata": {},
   "source": [
    "We'll focus on 3-sunflowers. The following are [known](https://mathoverflow.net/questions/163689/what-is-the-best-lower-bound-for-3-sunflowers) values of max 3-sunflower free sets or known lower bounds.\n",
    "* 1 petal $\\to$ 2\n",
    "* 2 petals $\\to$ 6\n",
    "* 3 petals $\\to$ 20 \n",
    "* 4 petals $\\to$ $\\ge$ 40\n",
    "* 5 petals $\\to$ $\\ge$ 120\n",
    "* 6 petals $\\to$ $\\ge$ 400\n",
    "\n",
    "Once we have a sufficient number of points, see if the [OEIS](https://oeis.org/) has only a few sequences to investigate. I think getting to 4 will be super useful, as well as about all that is feasible."
   ]
  },
  {
   "cell_type": "markdown",
   "metadata": {},
   "source": [
    "This whole process needs to get aggressively revamped. Right now, **way** too many cases to run."
   ]
  }
 ],
 "metadata": {
  "kernelspec": {
   "display_name": "Python 3",
   "language": "python",
   "name": "python3"
  },
  "language_info": {
   "codemirror_mode": {
    "name": "ipython",
    "version": 3
   },
   "file_extension": ".py",
   "mimetype": "text/x-python",
   "name": "python",
   "nbconvert_exporter": "python",
   "pygments_lexer": "ipython3",
   "version": "3.7.6"
  }
 },
 "nbformat": 4,
 "nbformat_minor": 4
}
